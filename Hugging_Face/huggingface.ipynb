{
 "cells": [
  {
   "cell_type": "code",
   "execution_count": 1,
   "metadata": {},
   "outputs": [],
   "source": [
    "from langchain_community.document_loaders import PyPDFLoader\n",
    "from langchain_community.document_loaders import PyPDFDirectoryLoader\n",
    "from langchain.text_splitter import RecursiveCharacterTextSplitter\n",
    "from langchain_community.vectorstores import FAISS\n",
    "\n",
    "from langchain_community.embeddings import HuggingFaceBgeEmbeddings\n",
    "import numpy as np\n",
    "from langchain.prompts import PromptTemplate\n",
    "\n",
    "from langchain.chains import RetrievalQA\n"
   ]
  },
  {
   "cell_type": "code",
   "execution_count": null,
   "metadata": {},
   "outputs": [
    {
     "data": {
      "text/plain": [
       "Document(metadata={'producer': 'Adobe PDF Library 17.0', 'creator': 'Adobe InDesign 18.2 (Windows)', 'creationdate': '2023-09-09T07:52:17-04:00', 'author': 'U.S. Census Bureau', 'keywords': 'acsbr-015', 'moddate': '2023-09-12T14:44:47+01:00', 'title': 'Health Insurance Coverage Status and Type by Geography: 2021 and 2022', 'trapped': '/false', 'source': 'us_census/acsbr-015.pdf', 'total_pages': 18, 'page': 0, 'page_label': '1'}, page_content='Health Insurance Coverage Status and Type \\nby Geography: 2021 and 2022\\nAmerican Community Survey Briefs\\nACSBR-015\\nIssued September 2023\\nDouglas Conway and Breauna Branch\\nINTRODUCTION\\nDemographic shifts as well as economic and govern-\\nment policy changes can affect people’s access to \\nhealth coverage. For example, between 2021 and 2022, \\nthe labor market continued to improve, which may \\nhave affected private coverage in the United States \\nduring that time.1 Public policy changes included \\nthe renewal of the Public Health Emergency, which \\nallowed Medicaid enrollees to remain covered under \\nthe Continuous Enrollment Provision.2 The American \\nRescue Plan (ARP) enhanced Marketplace premium \\nsubsidies for those with incomes above 400 percent \\nof the poverty level as well as for unemployed people.3\\nIn addition to national policies, individual states and \\nthe District of Columbia can affect health insurance \\ncoverage by making Marketplace or Medicaid more')"
      ]
     },
     "execution_count": 2,
     "metadata": {},
     "output_type": "execute_result"
    }
   ],
   "source": [
    "# Reading data from pdfs\n",
    "loader=PyPDFDirectoryLoader(\"./us_census\")\n",
    "\n",
    "documents=loader.load()\n",
    "\n",
    "text_splitter=RecursiveCharacterTextSplitter(chunk_size=1000,chunk_overlap=250)\n",
    "\n",
    "final_documents=text_splitter.split_documents(documents)\n",
    "\n",
    "final_documents[0]\n"
   ]
  },
  {
   "cell_type": "code",
   "execution_count": 4,
   "metadata": {},
   "outputs": [
    {
     "name": "stderr",
     "output_type": "stream",
     "text": [
      "/Users/bhanuprasadchetla/Desktop/aiml/Langchain/venv/lib/python3.11/site-packages/tqdm/auto.py:21: TqdmWarning: IProgress not found. Please update jupyter and ipywidgets. See https://ipywidgets.readthedocs.io/en/stable/user_install.html\n",
      "  from .autonotebook import tqdm as notebook_tqdm\n"
     ]
    }
   ],
   "source": [
    "# Embedding using HuggingFace\n",
    "\n",
    "hugging_face=HuggingFaceBgeEmbeddings(\n",
    "    model_name=\"BAAI/bge-small-en-v1.5\",#sentence-transformers/all-MiniLM-l6-v2\n",
    "    model_kwargs={\"device\":\"cpu\"},\n",
    "    encode_kwargs={\"normalize_embeddings\":True }\n",
    "                                                                                              \n",
    ")"
   ]
  },
  {
   "cell_type": "code",
   "execution_count": 6,
   "metadata": {},
   "outputs": [],
   "source": [
    "arrary=np.array(hugging_face.embed_query(final_documents[0].page_content))"
   ]
  },
  {
   "cell_type": "code",
   "execution_count": 7,
   "metadata": {},
   "outputs": [
    {
     "data": {
      "text/plain": [
       "array([-0.07903483, -0.01134113, -0.023121  ,  0.02844467,  0.05053339,\n",
       "        0.05317826, -0.01907787,  0.0345603 , -0.10211373, -0.02915701,\n",
       "        0.08524261,  0.05650727, -0.02545442, -0.03308494, -0.00635735,\n",
       "        0.04090862, -0.00628107,  0.0035674 , -0.03854132,  0.03667679,\n",
       "       -0.04289804,  0.03425257, -0.03116897, -0.03793732,  0.0172839 ,\n",
       "        0.01214924,  0.00653121,  0.01463568, -0.05529053, -0.15320703,\n",
       "        0.00730846,  0.03202944, -0.04701128, -0.01595979,  0.01874445,\n",
       "        0.02642935, -0.02306375,  0.08438037,  0.04182493,  0.05278177,\n",
       "       -0.03057601,  0.01564265, -0.01689073,  0.00529408, -0.02417439,\n",
       "        0.00412994, -0.01889933, -0.0015063 , -0.00836946, -0.03390065,\n",
       "        0.03515958, -0.00553132,  0.04910939,  0.0597186 ,  0.05615968,\n",
       "       -0.05105155,  0.01475136, -0.01849963, -0.03284639,  0.03576629,\n",
       "        0.04947708, -0.00938879, -0.26202118,  0.09750336,  0.01715689,\n",
       "        0.04781392, -0.0055632 , -0.00298304, -0.02207354, -0.04463672,\n",
       "       -0.05760486,  0.04815879, -0.05522211,  0.0163533 ,  0.03299248,\n",
       "        0.02147074,  0.01296216,  0.01462302,  0.02174953, -0.00202999,\n",
       "        0.02099537,  0.03353847, -0.00345108, -0.04823533,  0.05149955,\n",
       "       -0.08948113,  0.04491433, -0.03423372,  0.02495746, -0.03332327,\n",
       "       -0.04124899,  0.01226974,  0.00551145,  0.02813652,  0.0075081 ,\n",
       "        0.03364133, -0.0071859 , -0.00677304, -0.02375999,  0.34350547,\n",
       "       -0.02040547,  0.00967845, -0.00936507,  0.0152474 , -0.00692598,\n",
       "       -0.05803739, -0.00443028,  0.01115696,  0.01746202,  0.01258483,\n",
       "        0.02158612, -0.02646193,  0.01026769,  0.04782214, -0.0371809 ,\n",
       "       -0.01986196,  0.0400809 ,  0.01574839,  0.09363519, -0.02635876,\n",
       "       -0.01393849,  0.03410937, -0.01630282, -0.04708784,  0.02137164,\n",
       "        0.06708883,  0.05438904,  0.15054184,  0.03444386, -0.04218611,\n",
       "        0.10422423, -0.04002273, -0.00191294,  0.00459124, -0.00292595,\n",
       "        0.00371352, -0.02687686,  0.03972114, -0.00739627,  0.05129855,\n",
       "        0.00698699, -0.00043549, -0.00752803, -0.13413779, -0.03140992,\n",
       "        0.17964654, -0.02152572,  0.04534224,  0.02027218, -0.01826409,\n",
       "       -0.04439815,  0.04787037, -0.0380155 ,  0.04057756, -0.03817717,\n",
       "        0.01659368, -0.0036818 ,  0.02469144, -0.02634706, -0.06727427,\n",
       "        0.05705407, -0.03698838, -0.05754099,  0.01774042,  0.04163101,\n",
       "       -0.02699815, -0.01342314, -0.06434497,  0.02320635,  0.004761  ,\n",
       "        0.01345853,  0.05142649,  0.01828844, -0.02267209,  0.08680937,\n",
       "        0.0228899 , -0.02278561, -0.00261813, -0.00936064, -0.05964355,\n",
       "        0.00370075, -0.02772137, -0.05116593, -0.04951672, -0.01691757,\n",
       "       -0.04342567, -0.06551475,  0.05782725,  0.04989295, -0.01559617,\n",
       "       -0.00385897,  0.00827746, -0.06377079,  0.01969865, -0.01933411,\n",
       "       -0.01095794, -0.059908  , -0.02187356,  0.03869355, -0.0296353 ,\n",
       "       -0.03095979,  0.0262945 ,  0.00857691, -0.00225384, -0.00917322,\n",
       "        0.02006879,  0.02308831, -0.06949829,  0.03825641, -0.01321395,\n",
       "        0.00288255,  0.04065884,  0.03197158,  0.00364801,  0.03610992,\n",
       "        0.01653037,  0.01282882, -0.02190454,  0.02050884,  0.03220993,\n",
       "        0.03351379,  0.06819049,  0.09490157, -0.27463815, -0.00499029,\n",
       "        0.00181547,  0.00687725, -0.06947184, -0.05266641, -0.04547602,\n",
       "        0.02707846,  0.00403487,  0.0890972 ,  0.06208601, -0.00817402,\n",
       "       -0.02176253,  0.10530708,  0.02105068, -0.08313886,  0.02648288,\n",
       "       -0.02122214, -0.01542388, -0.00282382,  0.00493172,  0.0048772 ,\n",
       "       -0.06012274, -0.02174246,  0.08150735, -0.01746735,  0.0621053 ,\n",
       "       -0.05241901, -0.07425195,  0.00045815, -0.05536213,  0.05762161,\n",
       "       -0.007761  , -0.11965961,  0.06155289,  0.01773323, -0.07490142,\n",
       "        0.00434351, -0.06374455, -0.03096173, -0.02682649,  0.05158742,\n",
       "       -0.06356601,  0.02998998, -0.01865472, -0.05194331,  0.04636516,\n",
       "        0.07127582, -0.08020448,  0.01025249,  0.00649391, -0.03402685,\n",
       "       -0.03371226, -0.01476089,  0.02565081, -0.06251825, -0.0316458 ,\n",
       "        0.03269224, -0.0190662 , -0.00269568,  0.02393795,  0.00502714,\n",
       "        0.04807225, -0.00441297, -0.00810793, -0.04506412,  0.01010002,\n",
       "       -0.03085292, -0.07091324,  0.00998584,  0.00276082,  0.04710476,\n",
       "       -0.02302789, -0.02459352,  0.01797342, -0.02112838,  0.04660874,\n",
       "       -0.00104206, -0.00374575, -0.04950177,  0.04251793, -0.05733854,\n",
       "        0.02055238,  0.04219682, -0.0116706 ,  0.01241851,  0.01056796,\n",
       "        0.006638  , -0.01598007,  0.01632791, -0.02056749, -0.01553834,\n",
       "       -0.01156681, -0.01864407,  0.00332133,  0.00658679, -0.21910891,\n",
       "        0.04714737,  0.02075716, -0.02441516, -0.00868848, -0.01634119,\n",
       "       -0.02499125,  0.00766705, -0.01083086, -0.02472528,  0.05254846,\n",
       "        0.08288427,  0.11848132, -0.01936327, -0.00433767,  0.00458099,\n",
       "        0.0694774 ,  0.00124526,  0.02368697, -0.03457182,  0.06163955,\n",
       "       -0.06045354,  0.14640093, -0.03099669,  0.01726843, -0.06827348,\n",
       "       -0.01641342,  0.03765271, -0.03385305,  0.01721648,  0.02592446,\n",
       "       -0.0003479 ,  0.02241224, -0.01919535,  0.05005873,  0.00834136,\n",
       "        0.00977347,  0.05592791,  0.00274987,  0.02592707, -0.0499501 ,\n",
       "       -0.02017872,  0.02317916,  0.01068105,  0.06462805, -0.0295034 ,\n",
       "       -0.04529906, -0.0635804 , -0.01058144,  0.06793745,  0.00993986,\n",
       "       -0.02914155,  0.00441976,  0.01224198, -0.05699341, -0.01181845,\n",
       "       -0.06126493,  0.03326267,  0.00284467, -0.01248827,  0.02214625,\n",
       "        0.04263514, -0.07597515,  0.01234052,  0.0600201 ])"
      ]
     },
     "execution_count": 7,
     "metadata": {},
     "output_type": "execute_result"
    }
   ],
   "source": [
    "arrary"
   ]
  },
  {
   "cell_type": "code",
   "execution_count": 8,
   "metadata": {},
   "outputs": [
    {
     "data": {
      "text/plain": [
       "(384,)"
      ]
     },
     "execution_count": 8,
     "metadata": {},
     "output_type": "execute_result"
    }
   ],
   "source": [
    "arrary.shape"
   ]
  },
  {
   "cell_type": "code",
   "execution_count": 9,
   "metadata": {},
   "outputs": [],
   "source": [
    "vectore_store=FAISS.from_documents(final_documents[:120],hugging_face)\n"
   ]
  },
  {
   "cell_type": "code",
   "execution_count": 10,
   "metadata": {},
   "outputs": [
    {
     "data": {
      "text/plain": [
       "'2 U.S. Census Bureau\\nWHAT IS HEALTH INSURANCE COVERAGE?\\nThis brief presents state-level estimates of health insurance coverage \\nusing data from the American Community Survey (ACS). The  \\nU.S. Census Bureau conducts the ACS throughout the year; the \\nsurvey asks respondents to report their coverage at the time of \\ninterview. The resulting measure of health insurance coverage, \\ntherefore, reflects an annual average of current comprehensive \\nhealth insurance coverage status.* This uninsured rate measures a \\ndifferent concept than the measure based on the Current Population \\nSurvey Annual Social and Economic Supplement (CPS ASEC). \\nFor reporting purposes, the ACS broadly classifies health insurance \\ncoverage as private insurance or public insurance. The ACS defines \\nprivate health insurance as a plan provided through an employer \\nor a union, coverage purchased directly by an individual from an \\ninsurance company or through an exchange (such as healthcare.'"
      ]
     },
     "execution_count": 10,
     "metadata": {},
     "output_type": "execute_result"
    }
   ],
   "source": [
    "# query with similarity search\n",
    "\n",
    "query=\"WHAT IS HEALTH INSURANCE COVERAGE?\"\n",
    "\n",
    "relevant_info=vectore_store.similarity_search(query=query)\n",
    "\n",
    "relevant_info[0].page_content"
   ]
  },
  {
   "cell_type": "code",
   "execution_count": 12,
   "metadata": {},
   "outputs": [
    {
     "data": {
      "text/plain": [
       "VectorStoreRetriever(tags=['FAISS', 'HuggingFaceBgeEmbeddings'], vectorstore=<langchain_community.vectorstores.faiss.FAISS object at 0x1685a0d50>, search_kwargs={'k': 3})"
      ]
     },
     "execution_count": 12,
     "metadata": {},
     "output_type": "execute_result"
    }
   ],
   "source": [
    "# using retrievers to get accurate information from vectore database\n",
    "\n",
    "retriever=vectore_store.as_retriever(search_type=\"similarity\",search_kwargs={\"k\":3})\n",
    "retriever"
   ]
  },
  {
   "cell_type": "code",
   "execution_count": 20,
   "metadata": {},
   "outputs": [],
   "source": [
    "import os\n",
    "huggingface_api=os.getenv(\"HUGGINGFACE_API_KEY\")"
   ]
  },
  {
   "cell_type": "code",
   "execution_count": 21,
   "metadata": {},
   "outputs": [
    {
     "name": "stderr",
     "output_type": "stream",
     "text": [
      "/Users/bhanuprasadchetla/Desktop/aiml/Langchain/venv/lib/python3.11/site-packages/huggingface_hub/utils/_deprecation.py:131: FutureWarning: 'post' (from 'huggingface_hub.inference._client') is deprecated and will be removed from version '0.31.0'. Making direct POST requests to the inference server is not supported anymore. Please use task methods instead (e.g. `InferenceClient.chat_completion`). If your use case is not supported, please open an issue in https://github.com/huggingface/huggingface_hub.\n",
      "  warnings.warn(warning_message, FutureWarning)\n"
     ]
    },
    {
     "data": {
      "text/plain": [
       "\"WHAT IS HEALTH INSURANCE COVERAGE? Health insurance coverage is a type of insurance that covers the cost of medical and surgical expenses incurred by the insured. Here are some key aspects of health insurance coverage:\\n\\n1. **Premium**: This is the amount you pay regularly (usually monthly) to maintain your insurance policy. It's like renting your insurance.\\n\\n2. **Deductible**: This is the amount you have to pay out-of-pocket for covered health care services before your insurance starts to pay. For example, if your deductible is $1,000, you'll pay the first $1,000 of covered services.\\n\\n3. **Copayment (Copay)**: This is a fixed amount you pay for a specific service, like a doctor's visit or a prescription. For example, you might have a $20 copay for a primary care visit.\\n\\n4. **Coinsurance**: This is a percentage of the cost of a service that you pay after you've met your deductible. For example, if your coinsurance is 20%, you'll pay 20% of the cost of a service, and your insurance will pay the rest.\\n\\n5. **Out-of-Pocket Maximum**: This is the most you'll have to pay out-of-pocket in a year for covered services. Once you reach this amount, your insurance will pay 100% of the cost of covered services.\\n\\n6. **In-Network vs Out-of-Network**: Health insurance companies have networks of providers (like doctors and hospitals) that they have contracts with. If you use an in-network provider, your insurance will cover more of the cost. If you use an out-of-network provider, you'll pay more out-of-pocket.\\n\\n7. **Coverage Types**: Different types of health insurance cover different things. For example, some plans might cover preventive care (like check-ups and immunizations) at 100%, while others might require you to pay a copay or coinsurance.\\n\\n8. **Exclusions and Limitations**: Health insurance policies often have exclusions (things they don't cover) and limitations (rules about how much and when they'll cover something). It's important to understand these when choosing a plan.\\n\\nThe Affordable Care Act (ACA) requires that all individual and small group health insurance plans cover a set of essential health benefits, including things like doctor visits, hospitalizations, prescription drugs, and preventive care. However, the specifics of what's covered and how much you'll pay can vary widely between plans.\""
      ]
     },
     "execution_count": 21,
     "metadata": {},
     "output_type": "execute_result"
    }
   ],
   "source": [
    "from langchain_community.llms import HuggingFaceHub\n",
    "\n",
    "hf=HuggingFaceHub(\n",
    "    repo_id=\"mistralai/Mistral-7B-v0.1\",\n",
    "    model_kwargs={\"temperature\":0.1,\"max_length\":500},\n",
    "    huggingfacehub_api_token=huggingface_api\n",
    ")\n",
    "\n",
    "hf.invoke(query)"
   ]
  },
  {
   "cell_type": "code",
   "execution_count": 22,
   "metadata": {},
   "outputs": [],
   "source": [
    "prompt_template=\"\"\"\n",
    "Use the following piece of context to answer the question asked.\n",
    "Please try to provide the answer only based on the context\n",
    "\n",
    "{context}\n",
    "Question:{question}\n",
    "\n",
    "Helpful Answers:\n",
    " \"\"\""
   ]
  },
  {
   "cell_type": "code",
   "execution_count": 23,
   "metadata": {},
   "outputs": [],
   "source": [
    "prompt=PromptTemplate(template=prompt_template,\n",
    "                      input_variables=['context',\"question\"])\n"
   ]
  },
  {
   "cell_type": "code",
   "execution_count": 24,
   "metadata": {},
   "outputs": [],
   "source": [
    "retrievalqa=RetrievalQA.from_chain_type(\n",
    "    llm=hf,\n",
    "    chain_type=\"stuff\",\n",
    "    retriever=retriever,\n",
    "    return_source_documents=True,\n",
    "    chain_type_kwargs={\"prompt\":prompt}\n",
    "    \n",
    ")"
   ]
  },
  {
   "cell_type": "code",
   "execution_count": null,
   "metadata": {},
   "outputs": [],
   "source": [
    "# prompt=\"\"\"DIFFERENCES IN THE\n",
    "# UNINSURED RATE BY STATE\n",
    "# IN 2022\"\"\""
   ]
  },
  {
   "cell_type": "code",
   "execution_count": null,
   "metadata": {},
   "outputs": [],
   "source": [
    "# Call the QA chain with our query.\n",
    "result = retrievalqa.invoke({\"query\": query})\n",
    "print(result['result'])"
   ]
  },
  {
   "cell_type": "code",
   "execution_count": null,
   "metadata": {},
   "outputs": [],
   "source": []
  }
 ],
 "metadata": {
  "kernelspec": {
   "display_name": "Python 3",
   "language": "python",
   "name": "python3"
  },
  "language_info": {
   "codemirror_mode": {
    "name": "ipython",
    "version": 3
   },
   "file_extension": ".py",
   "mimetype": "text/x-python",
   "name": "python",
   "nbconvert_exporter": "python",
   "pygments_lexer": "ipython3",
   "version": "3.11.11"
  }
 },
 "nbformat": 4,
 "nbformat_minor": 2
}
